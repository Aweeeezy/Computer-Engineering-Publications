{
 "cells": [
  {
   "cell_type": "markdown",
   "metadata": {
    "deletable": true,
    "editable": true
   },
   "source": [
    "<h1>Create the Database</h1> <br>\n",
    "<p>Parses 'pubs.txt' to create an in-memory structure called 'records' (list of dictionaries), uses 'records' to insert rows into relations 'publication', 'author', and 'written_by', and then pickles 'records' to avoid parsing on successive runs.</p> <br>\n",
    "<p>If the database 'pubs.db' has already been created, notify the user and exit.</p>"
   ]
  },
  {
   "cell_type": "code",
   "execution_count": null,
   "metadata": {
    "collapsed": false,
    "deletable": true,
    "editable": true,
    "scrolled": true
   },
   "outputs": [],
   "source": [
    "run create.py 'pubs.txt'\n"
   ]
  },
  {
   "cell_type": "markdown",
   "metadata": {
    "collapsed": true,
    "deletable": true,
    "editable": true
   },
   "source": [
    "<h1>Executing Queries</h1> <br>"
   ]
  },
  {
   "cell_type": "code",
   "execution_count": null,
   "metadata": {
    "collapsed": false,
    "deletable": true,
    "editable": true
   },
   "outputs": [],
   "source": [
    "%load_ext sql\n",
    "%sql sqlite:///database.db"
   ]
  },
  {
   "cell_type": "markdown",
   "metadata": {
    "deletable": true,
    "editable": true
   },
   "source": [
    "<p>(1) Insert a new publication into the database.</p>"
   ]
  },
  {
   "cell_type": "code",
   "execution_count": null,
   "metadata": {
    "collapsed": false,
    "deletable": true,
    "editable": true
   },
   "outputs": [],
   "source": [
    "%%sql\n",
    "insert into publication values(157804, \"Big Data and Recommender Systems\", 2016, \"\", \"\");\n",
    "\n",
    "insert into author values(83513, \"David C. Anastasiu\");\n",
    "insert into author values(83514, \"Evangelia Christakopoulou\");\n",
    "insert into author values(83515, \"Shaden Smith\");\n",
    "insert into author values(83516, \"Mohit Sharma\");\n",
    "\n",
    "insert into written_by values(157804, 83513);\n",
    "insert into written_by values(157804, 83514);\n",
    "insert into written_by values(157804, 83515);\n",
    "insert into written_by values(157804, 83516);\n",
    "insert into written_by values(157804, 12857);"
   ]
  },
  {
   "cell_type": "markdown",
   "metadata": {
    "deletable": true,
    "editable": true
   },
   "source": [
    "<p>(2) Query all publications by a particular author.</p>"
   ]
  },
  {
   "cell_type": "code",
   "execution_count": null,
   "metadata": {
    "collapsed": false,
    "deletable": true,
    "editable": true
   },
   "outputs": [],
   "source": [
    "%%sql\n",
    "select p.id as ID, p.title as Title, p.booktitle as Journal, \n",
    "    p.year as Year, p.pages as Pages\n",
    "from publication as p, written_by as w, author as a\n",
    "where p.id = w.pub_id \n",
    "and w.author_id = a.id \n",
    "and a.name = \"Geoffrey E. Hinton\";"
   ]
  },
  {
   "cell_type": "markdown",
   "metadata": {
    "deletable": true,
    "editable": true
   },
   "source": [
    "<p>(3) Query all publications in a particular year.</p>"
   ]
  },
  {
   "cell_type": "code",
   "execution_count": null,
   "metadata": {
    "collapsed": false,
    "deletable": true,
    "editable": true
   },
   "outputs": [],
   "source": [
    "%%sql\n",
    "select id as ID, title as Title, booktitle as Journal,\n",
    "    year as Year, pages as Pages\n",
    "from publication where year = 1947;"
   ]
  },
  {
   "cell_type": "markdown",
   "metadata": {
    "deletable": true,
    "editable": true
   },
   "source": [
    "<p>(4) Query all publications published in a particular journal.</p>"
   ]
  },
  {
   "cell_type": "code",
   "execution_count": null,
   "metadata": {
    "collapsed": false,
    "deletable": true,
    "editable": true
   },
   "outputs": [],
   "source": [
    "%%sql\n",
    "select id as ID, title as Title, booktitle as Journal,\n",
    "    year as Year, pages as Pages\n",
    "from publication where booktitle = \"NIPS\"\n",
    "limit 20;"
   ]
  },
  {
   "cell_type": "markdown",
   "metadata": {
    "deletable": true,
    "editable": true
   },
   "source": [
    "<p>(5) Query all publications with a particular string contained in the title.</p>"
   ]
  },
  {
   "cell_type": "code",
   "execution_count": null,
   "metadata": {
    "collapsed": false,
    "deletable": true,
    "editable": true
   },
   "outputs": [],
   "source": [
    "%%sql\n",
    "select id as ID, title as Title, booktitle as Journal,\n",
    "    year as Year, pages as Pages\n",
    "from publication where lower(title) like \"% ai %\" or lower(title) like \"%artificial intelligence%\"\n",
    "limit 20;"
   ]
  },
  {
   "cell_type": "markdown",
   "metadata": {
    "deletable": true,
    "editable": true
   },
   "source": [
    "<p>(6) Query all publications with a combination of the author, year, journal, and title constraints.</p>"
   ]
  },
  {
   "cell_type": "code",
   "execution_count": null,
   "metadata": {
    "collapsed": false,
    "deletable": true,
    "editable": true
   },
   "outputs": [],
   "source": [
    "%%sql\n",
    "select a.name as Author, p.id as ID, p.title as Title, p.booktitle as Journal,\n",
    "    p.year as Year, p.pages as Pages\n",
    "from publication as p, author as a, written_by as w\n",
    "where p.id = w.pub_id and w.author_id = a.id \n",
    "and a.name = \"George Karypis\" and lower(p.title) like \"%recommender systems%\" \n",
    "and p.year > 2001 and p.booktitle = \"\";"
   ]
  },
  {
   "cell_type": "markdown",
   "metadata": {
    "deletable": true,
    "editable": true
   },
   "source": [
    "<p>(7) Delete a publication from a particular author, year, journal.</p>"
   ]
  },
  {
   "cell_type": "code",
   "execution_count": null,
   "metadata": {
    "collapsed": false,
    "deletable": true,
    "editable": true
   },
   "outputs": [],
   "source": [
    "%%sql\n",
    "delete from publication\n",
    "where id in (\n",
    "    select p.id from publication as p, author as a, written_by as w\n",
    "    where p.id = w.pub_id and w.author_id = a.id\n",
    "    and p.booktitle = \"NIPS\" and year = 1998 and name = \"Geoffrey E. Hinton\"\n",
    ");"
   ]
  },
  {
   "cell_type": "markdown",
   "metadata": {
    "deletable": true,
    "editable": true
   },
   "source": [
    "<p>(8) Delete all records for a given author.</p>"
   ]
  },
  {
   "cell_type": "code",
   "execution_count": null,
   "metadata": {
    "collapsed": false,
    "deletable": true,
    "editable": true
   },
   "outputs": [],
   "source": [
    "%%sql\n",
    "delete from publication\n",
    "where id in (\n",
    "    select p.id from publication as p, author as a, written_by as w\n",
    "    where p.id = w.pub_id and w.author_id = a.id\n",
    "    and name = \"Geoffrey E. Hinton\"\n",
    ");\n",
    "\n",
    "delete from author where name = \"Geoffrey E. Hinton\";"
   ]
  },
  {
   "cell_type": "markdown",
   "metadata": {
    "deletable": true,
    "editable": true
   },
   "source": [
    "<p>(9) Change the name of an author or journal.</p>"
   ]
  },
  {
   "cell_type": "code",
   "execution_count": null,
   "metadata": {
    "collapsed": false,
    "deletable": true,
    "editable": true
   },
   "outputs": [],
   "source": [
    "%%sql\n",
    "update author\n",
    "set name = \"Donnie Darko\"\n",
    "where name = \"Darko Marinov\";"
   ]
  },
  {
   "cell_type": "markdown",
   "metadata": {
    "deletable": true,
    "editable": true
   },
   "source": [
    "<p>(10) Change the title of an article or its publication year.</p>"
   ]
  },
  {
   "cell_type": "code",
   "execution_count": null,
   "metadata": {
    "collapsed": false,
    "deletable": true,
    "editable": true
   },
   "outputs": [],
   "source": [
    "%%sql\n",
    "update publication\n",
    "set title = \"Minority Report\"\n",
    "where title = \"SECRETS: a secure real-time multimedia surveillance system\";"
   ]
  }
 ],
 "metadata": {
  "kernelspec": {
   "display_name": "Python 2",
   "language": "python",
   "name": "python2"
  },
  "language_info": {
   "codemirror_mode": {
    "name": "ipython",
    "version": 2
   },
   "file_extension": ".py",
   "mimetype": "text/x-python",
   "name": "python",
   "nbconvert_exporter": "python",
   "pygments_lexer": "ipython2",
   "version": "2.7.6"
  }
 },
 "nbformat": 4,
 "nbformat_minor": 2
}
